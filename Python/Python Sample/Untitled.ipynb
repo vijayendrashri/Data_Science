{
 "cells": [
  {
   "cell_type": "code",
   "execution_count": 1,
   "id": "respective-shanghai",
   "metadata": {
    "ExecuteTime": {
     "end_time": "2021-04-18T06:54:19.462323Z",
     "start_time": "2021-04-18T06:54:19.458701Z"
    }
   },
   "outputs": [],
   "source": [
    "import itertools\n",
    "# colors = ['red', 'orange', 'yellow', 'green', 'blue', 'violet']\n",
    "# for color in itertools.cycle(colors):\n",
    "#     print(color)"
   ]
  },
  {
   "cell_type": "code",
   "execution_count": 2,
   "id": "swiss-vertical",
   "metadata": {
    "ExecuteTime": {
     "end_time": "2021-04-18T06:54:21.136865Z",
     "start_time": "2021-04-18T06:54:21.131825Z"
    }
   },
   "outputs": [],
   "source": [
    "s = {1, 2, 3, 2, 3, 4}\n",
    "# s = set([1, 2, 3])"
   ]
  },
  {
   "cell_type": "code",
   "execution_count": 3,
   "id": "otherwise-dayton",
   "metadata": {
    "ExecuteTime": {
     "end_time": "2021-04-18T06:54:22.085015Z",
     "start_time": "2021-04-18T06:54:22.067974Z"
    }
   },
   "outputs": [
    {
     "data": {
      "text/plain": [
       "{1, 2, 3, 4}"
      ]
     },
     "execution_count": 3,
     "metadata": {},
     "output_type": "execute_result"
    }
   ],
   "source": [
    "s"
   ]
  },
  {
   "cell_type": "code",
   "execution_count": 4,
   "id": "breeding-demographic",
   "metadata": {
    "ExecuteTime": {
     "end_time": "2021-04-18T06:54:34.198094Z",
     "start_time": "2021-04-18T06:54:34.192777Z"
    }
   },
   "outputs": [
    {
     "data": {
      "text/plain": [
       "{1, 2, 3, 4, 5}"
      ]
     },
     "execution_count": 4,
     "metadata": {},
     "output_type": "execute_result"
    }
   ],
   "source": [
    "s.add(5)\n",
    "s"
   ]
  },
  {
   "cell_type": "code",
   "execution_count": 5,
   "id": "logical-beatles",
   "metadata": {
    "ExecuteTime": {
     "end_time": "2021-04-18T06:54:39.408854Z",
     "start_time": "2021-04-18T06:54:39.402536Z"
    }
   },
   "outputs": [
    {
     "data": {
      "text/plain": [
       "{1, 2, 3, 4, 5, 6}"
      ]
     },
     "execution_count": 5,
     "metadata": {},
     "output_type": "execute_result"
    }
   ],
   "source": [
    "s.update([2, 3, 4, 5, 6])\n",
    "s"
   ]
  },
  {
   "cell_type": "code",
   "execution_count": 6,
   "id": "recreational-mobile",
   "metadata": {
    "ExecuteTime": {
     "end_time": "2021-04-18T06:54:43.006558Z",
     "start_time": "2021-04-18T06:54:43.002225Z"
    }
   },
   "outputs": [],
   "source": [
    "s.remove(4) # Element not will raise error"
   ]
  },
  {
   "cell_type": "code",
   "execution_count": 7,
   "id": "particular-topic",
   "metadata": {
    "ExecuteTime": {
     "end_time": "2021-04-18T06:55:01.212458Z",
     "start_time": "2021-04-18T06:55:01.208398Z"
    }
   },
   "outputs": [],
   "source": [
    "s.discard(3)"
   ]
  },
  {
   "cell_type": "code",
   "execution_count": 8,
   "id": "insured-plant",
   "metadata": {
    "ExecuteTime": {
     "end_time": "2021-04-18T06:56:42.152906Z",
     "start_time": "2021-04-18T06:56:42.145641Z"
    }
   },
   "outputs": [
    {
     "data": {
      "text/plain": [
       "{1, 2, 3, 4, 5}"
      ]
     },
     "execution_count": 8,
     "metadata": {},
     "output_type": "execute_result"
    }
   ],
   "source": [
    "s1 = {1, 2, 3}\n",
    "s2 = {3, 4, 5}\n",
    "s1.union(s2)  # or 's1 | s2'"
   ]
  },
  {
   "cell_type": "code",
   "execution_count": 12,
   "id": "tight-equipment",
   "metadata": {
    "ExecuteTime": {
     "end_time": "2021-04-18T06:59:07.334090Z",
     "start_time": "2021-04-18T06:59:07.326359Z"
    }
   },
   "outputs": [
    {
     "data": {
      "text/plain": [
       "{3}"
      ]
     },
     "execution_count": 12,
     "metadata": {},
     "output_type": "execute_result"
    }
   ],
   "source": [
    "s1 = {1, 2, 3}\n",
    "s2 = {2, 3, 4}\n",
    "s3 = {3, 4, 5}\n",
    "s1.intersection(s2, s3)  # or 's1 & s2 & s3'"
   ]
  },
  {
   "cell_type": "code",
   "execution_count": 13,
   "id": "regulated-margin",
   "metadata": {
    "ExecuteTime": {
     "end_time": "2021-04-18T06:59:31.629451Z",
     "start_time": "2021-04-18T06:59:31.621468Z"
    }
   },
   "outputs": [
    {
     "data": {
      "text/plain": [
       "{1, 4}"
      ]
     },
     "execution_count": 13,
     "metadata": {},
     "output_type": "execute_result"
    }
   ],
   "source": [
    "s1 = {1, 2, 3}\n",
    "s2 = {2, 3, 4}\n",
    "s1.symmetric_difference(s2) "
   ]
  },
  {
   "cell_type": "code",
   "execution_count": 15,
   "id": "packed-period",
   "metadata": {
    "ExecuteTime": {
     "end_time": "2021-04-18T08:10:04.907370Z",
     "start_time": "2021-04-18T08:10:04.900525Z"
    }
   },
   "outputs": [
    {
     "name": "stdout",
     "output_type": "stream",
     "text": [
      "1\n",
      "-1\n",
      "-4\n",
      "-8\n",
      "-13\n"
     ]
    }
   ],
   "source": [
    "import operator\n",
    "data = [1, 2, 3, 4, 5]\n",
    "result = itertools.accumulate(data, operator.sub)\n",
    "for each in result:\n",
    "    print(each)"
   ]
  },
  {
   "cell_type": "code",
   "execution_count": 12,
   "id": "absolute-prompt",
   "metadata": {
    "ExecuteTime": {
     "end_time": "2021-04-14T15:01:37.276488Z",
     "start_time": "2021-04-14T15:01:37.204282Z"
    }
   },
   "outputs": [
    {
     "name": "stdout",
     "output_type": "stream",
     "text": [
      "5\n",
      "7\n",
      "13\n",
      "17\n",
      "22\n",
      "31\n",
      "32\n"
     ]
    }
   ],
   "source": [
    "data = [5, 2, 6, 4, 5, 9, 1]\n",
    "result = itertools.accumulate(data)\n",
    "for each in result:\n",
    "    print(each)"
   ]
  },
  {
   "cell_type": "code",
   "execution_count": 13,
   "id": "bright-bradley",
   "metadata": {
    "ExecuteTime": {
     "end_time": "2021-04-14T15:01:37.345841Z",
     "start_time": "2021-04-14T15:01:37.279416Z"
    }
   },
   "outputs": [
    {
     "data": {
      "text/plain": [
       "'*****Hello'"
      ]
     },
     "execution_count": 13,
     "metadata": {},
     "output_type": "execute_result"
    }
   ],
   "source": [
    "'Hello'.rjust(10,'*')"
   ]
  },
  {
   "cell_type": "code",
   "execution_count": 14,
   "id": "romantic-coordination",
   "metadata": {
    "ExecuteTime": {
     "end_time": "2021-04-14T15:01:37.426827Z",
     "start_time": "2021-04-14T15:01:37.348753Z"
    }
   },
   "outputs": [
    {
     "data": {
      "text/plain": [
       "'Hello-----'"
      ]
     },
     "execution_count": 14,
     "metadata": {},
     "output_type": "execute_result"
    }
   ],
   "source": [
    "'Hello'.ljust(10,'-')"
   ]
  },
  {
   "cell_type": "code",
   "execution_count": 15,
   "id": "photographic-referral",
   "metadata": {
    "ExecuteTime": {
     "end_time": "2021-04-14T15:01:37.505397Z",
     "start_time": "2021-04-14T15:01:37.431568Z"
    }
   },
   "outputs": [
    {
     "data": {
      "text/plain": [
       "'=======Hello========'"
      ]
     },
     "execution_count": 15,
     "metadata": {},
     "output_type": "execute_result"
    }
   ],
   "source": [
    "'Hello'.center(20, '=')"
   ]
  },
  {
   "cell_type": "code",
   "execution_count": 16,
   "id": "numeric-alert",
   "metadata": {
    "ExecuteTime": {
     "end_time": "2021-04-14T15:01:37.583637Z",
     "start_time": "2021-04-14T15:01:37.507594Z"
    }
   },
   "outputs": [
    {
     "name": "stdout",
     "output_type": "stream",
     "text": [
      "Phone number found: 415-555-4242\n"
     ]
    }
   ],
   "source": [
    "import re\n",
    "phone_num_regex = re.compile(r'\\d\\d\\d-\\d\\d\\d-\\d\\d\\d\\d')\n",
    "mo = phone_num_regex.search('My number is 415-555-4242.')\n",
    "print('Phone number found: {}'.format(mo.group()))"
   ]
  },
  {
   "cell_type": "code",
   "execution_count": 6,
   "id": "specified-investment",
   "metadata": {
    "ExecuteTime": {
     "end_time": "2021-04-16T19:34:21.953793Z",
     "start_time": "2021-04-16T19:34:21.944505Z"
    }
   },
   "outputs": [
    {
     "data": {
      "text/plain": [
       "array([[[1, 4],\n",
       "        [2, 5],\n",
       "        [3, 6]]])"
      ]
     },
     "execution_count": 6,
     "metadata": {},
     "output_type": "execute_result"
    }
   ],
   "source": [
    "arr1 = np.array([1, 2, 3])\n",
    "arr2 = np.array([4, 5, 6])\n",
    "arr = np.dstack((arr1, arr2))\n",
    "arr"
   ]
  },
  {
   "cell_type": "code",
   "execution_count": 5,
   "id": "circular-actress",
   "metadata": {
    "ExecuteTime": {
     "end_time": "2021-04-17T07:07:42.172795Z",
     "start_time": "2021-04-17T07:07:42.160710Z"
    }
   },
   "outputs": [
    {
     "name": "stdout",
     "output_type": "stream",
     "text": [
      "1\n",
      "2\n",
      "3\n",
      "4\n",
      "5\n",
      "6\n",
      "7\n",
      "8\n",
      "9\n",
      "10\n",
      "11\n",
      "12\n"
     ]
    }
   ],
   "source": [
    "import numpy as np\n",
    "arr = np.array([[[1, 2, 3], [4, 5, 6]], [[7, 8, 9], [10, 11, 12]]])\n",
    "for x in arr:\n",
    "  for y in x:\n",
    "    print(y)"
   ]
  },
  {
   "cell_type": "code",
   "execution_count": 6,
   "id": "particular-enterprise",
   "metadata": {
    "ExecuteTime": {
     "end_time": "2021-04-17T07:08:18.648134Z",
     "start_time": "2021-04-17T07:08:18.639262Z"
    }
   },
   "outputs": [
    {
     "name": "stdout",
     "output_type": "stream",
     "text": [
      "1\n",
      "2\n",
      "3\n",
      "4\n",
      "5\n",
      "6\n",
      "7\n",
      "8\n"
     ]
    }
   ],
   "source": [
    "arr = np.array([[[1, 2], [3, 4]], [[5, 6], [7, 8]]])\n",
    "\n",
    "for x in np.nditer(arr):\n",
    "    print(x)"
   ]
  },
  {
   "cell_type": "code",
   "execution_count": null,
   "id": "acceptable-cattle",
   "metadata": {},
   "outputs": [],
   "source": []
  },
  {
   "cell_type": "code",
   "execution_count": null,
   "id": "spread-midwest",
   "metadata": {},
   "outputs": [],
   "source": []
  },
  {
   "cell_type": "code",
   "execution_count": null,
   "id": "silent-minutes",
   "metadata": {},
   "outputs": [],
   "source": []
  },
  {
   "cell_type": "code",
   "execution_count": null,
   "id": "indoor-somalia",
   "metadata": {},
   "outputs": [],
   "source": []
  }
 ],
 "metadata": {
  "kernelspec": {
   "display_name": "Python 3",
   "language": "python",
   "name": "python3"
  },
  "language_info": {
   "codemirror_mode": {
    "name": "ipython",
    "version": 3
   },
   "file_extension": ".py",
   "mimetype": "text/x-python",
   "name": "python",
   "nbconvert_exporter": "python",
   "pygments_lexer": "ipython3",
   "version": "3.8.3"
  },
  "latex_envs": {
   "LaTeX_envs_menu_present": true,
   "autoclose": false,
   "autocomplete": true,
   "bibliofile": "biblio.bib",
   "cite_by": "apalike",
   "current_citInitial": 1,
   "eqLabelWithNumbers": true,
   "eqNumInitial": 1,
   "hotkeys": {
    "equation": "Ctrl-E",
    "itemize": "Ctrl-I"
   },
   "labels_anchors": false,
   "latex_user_defs": false,
   "report_style_numbering": false,
   "user_envs_cfg": false
  },
  "varInspector": {
   "cols": {
    "lenName": 16,
    "lenType": 16,
    "lenVar": 40
   },
   "kernels_config": {
    "python": {
     "delete_cmd_postfix": "",
     "delete_cmd_prefix": "del ",
     "library": "var_list.py",
     "varRefreshCmd": "print(var_dic_list())"
    },
    "r": {
     "delete_cmd_postfix": ") ",
     "delete_cmd_prefix": "rm(",
     "library": "var_list.r",
     "varRefreshCmd": "cat(var_dic_list()) "
    }
   },
   "types_to_exclude": [
    "module",
    "function",
    "builtin_function_or_method",
    "instance",
    "_Feature"
   ],
   "window_display": false
  }
 },
 "nbformat": 4,
 "nbformat_minor": 5
}
