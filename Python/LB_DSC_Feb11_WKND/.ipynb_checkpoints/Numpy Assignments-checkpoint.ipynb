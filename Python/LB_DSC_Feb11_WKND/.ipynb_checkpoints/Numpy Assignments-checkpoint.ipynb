{
 "cells": [
  {
   "cell_type": "code",
   "execution_count": 1,
   "id": "terminal-clause",
   "metadata": {
    "ExecuteTime": {
     "end_time": "2021-04-16T19:30:35.851536Z",
     "start_time": "2021-04-16T19:30:35.846027Z"
    }
   },
   "outputs": [],
   "source": [
    "import numpy as np"
   ]
  },
  {
   "cell_type": "code",
   "execution_count": 2,
   "id": "grave-professional",
   "metadata": {
    "ExecuteTime": {
     "end_time": "2021-04-16T19:20:14.655331Z",
     "start_time": "2021-04-16T19:20:14.641765Z"
    }
   },
   "outputs": [
    {
     "data": {
      "text/plain": [
       "'1.19.2'"
      ]
     },
     "execution_count": 2,
     "metadata": {},
     "output_type": "execute_result"
    }
   ],
   "source": [
    "# Write a Python program to print the NumPy version in your system\n",
    "np.version.version"
   ]
  },
  {
   "cell_type": "code",
   "execution_count": 3,
   "id": "functional-litigation",
   "metadata": {
    "ExecuteTime": {
     "end_time": "2021-04-16T19:20:14.775342Z",
     "start_time": "2021-04-16T19:20:14.658151Z"
    }
   },
   "outputs": [
    {
     "data": {
      "text/plain": [
       "array([3, 6, 8, 7, 9, 4, 5, 2, 1])"
      ]
     },
     "execution_count": 3,
     "metadata": {},
     "output_type": "execute_result"
    }
   ],
   "source": [
    "# Write a Python program to reverse an array \n",
    "arr = np.array([1,2,5,4,9,7,8,6,3])\n",
    "arr[::-1]"
   ]
  },
  {
   "cell_type": "code",
   "execution_count": 4,
   "id": "bizarre-studio",
   "metadata": {
    "ExecuteTime": {
     "end_time": "2021-04-16T19:20:14.859479Z",
     "start_time": "2021-04-16T19:20:14.778471Z"
    }
   },
   "outputs": [
    {
     "data": {
      "text/plain": [
       "array([1, 2, 3, 4, 5])"
      ]
     },
     "execution_count": 4,
     "metadata": {},
     "output_type": "execute_result"
    }
   ],
   "source": [
    "# Write a Python program to convert a list and tuple into arrays.\n",
    "arr1 = np.array((1, 2, 3, 4, 5))\n",
    "arr1"
   ]
  },
  {
   "cell_type": "code",
   "execution_count": 5,
   "id": "stylish-service",
   "metadata": {
    "ExecuteTime": {
     "end_time": "2021-04-16T19:20:14.956598Z",
     "start_time": "2021-04-16T19:20:14.861827Z"
    }
   },
   "outputs": [],
   "source": [
    "# Write a Python program to find common values between two arrays.\n",
    "a = np.array([2,5,6,4,7])\n",
    "b = np.array([7,4,8,9,2])\n"
   ]
  },
  {
   "cell_type": "code",
   "execution_count": 6,
   "id": "compatible-depth",
   "metadata": {
    "ExecuteTime": {
     "end_time": "2021-04-16T19:20:15.049778Z",
     "start_time": "2021-04-16T19:20:14.959345Z"
    }
   },
   "outputs": [
    {
     "data": {
      "text/plain": [
       "array([2, 4, 7])"
      ]
     },
     "execution_count": 6,
     "metadata": {},
     "output_type": "execute_result"
    }
   ],
   "source": [
    "np.intersect1d(a,b)"
   ]
  },
  {
   "cell_type": "code",
   "execution_count": 7,
   "id": "frank-change",
   "metadata": {
    "ExecuteTime": {
     "end_time": "2021-04-16T19:20:15.133325Z",
     "start_time": "2021-04-16T19:20:15.056275Z"
    }
   },
   "outputs": [
    {
     "data": {
      "text/plain": [
       "array([ True, False,  True,  True, False])"
      ]
     },
     "execution_count": 7,
     "metadata": {},
     "output_type": "execute_result"
    }
   ],
   "source": [
    "#  Write a Python program compare two arrays using numpy.\n",
    "np.greater(a,b)\n",
    "np.greater_equal(a,b)\n",
    "np.less(a,b)"
   ]
  },
  {
   "cell_type": "code",
   "execution_count": 8,
   "id": "beautiful-cooperative",
   "metadata": {
    "ExecuteTime": {
     "end_time": "2021-04-16T19:20:15.208982Z",
     "start_time": "2021-04-16T19:20:15.136916Z"
    }
   },
   "outputs": [
    {
     "data": {
      "text/plain": [
       "array([[0, 1],\n",
       "       [2, 3],\n",
       "       [4, 5],\n",
       "       [6, 7],\n",
       "       [8, 9]])"
      ]
     },
     "execution_count": 8,
     "metadata": {},
     "output_type": "execute_result"
    }
   ],
   "source": [
    "# Write a Python program to change the dimension of an array\n",
    "aa = np.arange(10)\n",
    "aa.reshape(5,-1)"
   ]
  },
  {
   "cell_type": "code",
   "execution_count": 9,
   "id": "interstate-childhood",
   "metadata": {
    "ExecuteTime": {
     "end_time": "2021-04-16T19:20:15.293812Z",
     "start_time": "2021-04-16T19:20:15.211077Z"
    }
   },
   "outputs": [
    {
     "name": "stdout",
     "output_type": "stream",
     "text": [
      "[ 3  5  6  9 10 12 15 18 20 21 24 25 27 30 33 35 36 39 40 42 45 48 50 51\n",
      " 54 55 57 60 63 65 66 69 70 72 75 78 80 81 84 85 87 90 93 95 96 99]\n"
     ]
    },
    {
     "data": {
      "text/plain": [
       "2318"
      ]
     },
     "execution_count": 9,
     "metadata": {},
     "output_type": "execute_result"
    }
   ],
   "source": [
    "# Write a Python program (using numpy) to sum of all the multiples of 3 or 5 below 100.\n",
    "n = np.arange(1,100)\n",
    "ai = n[(n%3==0) | (n%5==0)]\n",
    "print(ai)\n",
    "ai.sum()"
   ]
  },
  {
   "cell_type": "code",
   "execution_count": 10,
   "id": "invisible-charger",
   "metadata": {
    "ExecuteTime": {
     "end_time": "2021-04-16T19:20:15.385843Z",
     "start_time": "2021-04-16T19:20:15.297070Z"
    }
   },
   "outputs": [
    {
     "data": {
      "text/plain": [
       "[3, 4, 6, 8, 5]"
      ]
     },
     "execution_count": 10,
     "metadata": {},
     "output_type": "execute_result"
    }
   ],
   "source": [
    "# Write a Python program to convert a NumPy array into Python list structure.\n",
    "an = np.array([3,4,6,8,5])\n",
    "list(an)"
   ]
  },
  {
   "cell_type": "code",
   "execution_count": 11,
   "id": "absolute-reputation",
   "metadata": {
    "ExecuteTime": {
     "end_time": "2021-04-16T19:20:15.460791Z",
     "start_time": "2021-04-16T19:20:15.388937Z"
    }
   },
   "outputs": [
    {
     "data": {
      "text/plain": [
       "array([[ 1,  2,  3, 10],\n",
       "       [ 4,  5,  6, 20]])"
      ]
     },
     "execution_count": 11,
     "metadata": {},
     "output_type": "execute_result"
    }
   ],
   "source": [
    "# Write a Python program to how to add an extra column to a numpy array.\n",
    "x = np.array([[1,2,3], [4,5,6]])\n",
    "y = np.array([[10], [20]])\n",
    "np.append(x,y,axis=1)"
   ]
  },
  {
   "cell_type": "code",
   "execution_count": 12,
   "id": "focused-danger",
   "metadata": {
    "ExecuteTime": {
     "end_time": "2021-04-16T19:20:15.548690Z",
     "start_time": "2021-04-16T19:20:15.462950Z"
    }
   },
   "outputs": [
    {
     "name": "stdout",
     "output_type": "stream",
     "text": [
      "True\n"
     ]
    }
   ],
   "source": [
    "# Write a Python program to check whether the numpy array is empty or not\n",
    "a = np.array([])\n",
    "print(a.size==0)"
   ]
  },
  {
   "cell_type": "code",
   "execution_count": 13,
   "id": "residential-tracker",
   "metadata": {
    "ExecuteTime": {
     "end_time": "2021-04-16T19:20:15.650033Z",
     "start_time": "2021-04-16T19:20:15.552473Z"
    }
   },
   "outputs": [
    {
     "name": "stdout",
     "output_type": "stream",
     "text": [
      "Original Array:\n",
      "[[8 8 2]\n",
      " [2 0 2]\n",
      " [0 5 0]]\n",
      "After normalization:\n",
      "[[1.    1.    0.25 ]\n",
      " [0.25  0.    0.25 ]\n",
      " [0.    0.625 0.   ]]\n"
     ]
    }
   ],
   "source": [
    "# Write a Python program to normalize a 3x3 random matrix\n",
    "x=np.random.randint(9,size=(3,3))\n",
    "print(\"Original Array:\")\n",
    "print(x)\n",
    "xmax, xmin = x.max(), x.min()\n",
    "x = (x - xmin)/(xmax - xmin)\n",
    "print(\"After normalization:\")\n",
    "print(x)"
   ]
  },
  {
   "cell_type": "code",
   "execution_count": 14,
   "id": "statutory-classics",
   "metadata": {
    "ExecuteTime": {
     "end_time": "2021-04-16T19:20:15.742258Z",
     "start_time": "2021-04-16T19:20:15.653182Z"
    }
   },
   "outputs": [
    {
     "data": {
      "text/plain": [
       "{'divide': 'warn', 'over': 'warn', 'under': 'ignore', 'invalid': 'warn'}"
      ]
     },
     "execution_count": 14,
     "metadata": {},
     "output_type": "execute_result"
    }
   ],
   "source": [
    "# How to ignore all numpy warnings (not recommended)\n",
    "np.seterr(all=\"ignore\")"
   ]
  },
  {
   "cell_type": "code",
   "execution_count": 15,
   "id": "outside-illustration",
   "metadata": {
    "ExecuteTime": {
     "end_time": "2021-04-16T19:20:15.818143Z",
     "start_time": "2021-04-16T19:20:15.744716Z"
    }
   },
   "outputs": [
    {
     "name": "stdout",
     "output_type": "stream",
     "text": [
      "[[4 3 1]\n",
      " [5 7 0]\n",
      " [9 9 3]\n",
      " [8 2 4]]\n",
      "--------------------\n",
      "[[5 7 0]\n",
      " [4 3 1]\n",
      " [9 9 3]\n",
      " [8 2 4]]\n"
     ]
    }
   ],
   "source": [
    "# How to swap two rows of an array?\n",
    "a = np.array([[4,3, 1],[5 ,7, 0],[9, 9, 3],[8, 2, 4]]) \n",
    "print(a)\n",
    "print('--'*10)\n",
    "a[[0, 1]] = a[[1, 0]]\n",
    "print(a)"
   ]
  },
  {
   "cell_type": "code",
   "execution_count": 16,
   "id": "recovered-mortality",
   "metadata": {
    "ExecuteTime": {
     "end_time": "2021-04-16T19:20:15.897938Z",
     "start_time": "2021-04-16T19:20:15.821876Z"
    }
   },
   "outputs": [],
   "source": [
    "# Compute bootstrapped 95% confidence\n",
    "# intervals for the mean of a 1D array X (i.e.,\n",
    "# resample the elements of an array with\n",
    "# replacement N times, compute the mean of\n",
    "# each sample, and then compute percentiles\n",
    "# over the means).\n",
    "\n",
    "\n"
   ]
  },
  {
   "cell_type": "code",
   "execution_count": 17,
   "id": "sapphire-aurora",
   "metadata": {
    "ExecuteTime": {
     "end_time": "2021-04-16T19:20:15.984876Z",
     "start_time": "2021-04-16T19:20:15.900970Z"
    }
   },
   "outputs": [
    {
     "name": "stdout",
     "output_type": "stream",
     "text": [
      "Random vector \n",
      "[0.16194178 0.67993243 0.42583368 0.48150485 0.90299704 0.30504186\n",
      " 0.20608411 0.3335155  0.34167075 0.65984491]\n",
      "Sorted Random vector \n",
      "[0.16194178 0.20608411 0.30504186 0.3335155  0.34167075 0.42583368\n",
      " 0.48150485 0.65984491 0.67993243 0.90299704]\n"
     ]
    }
   ],
   "source": [
    "# Python program to create a random vector of size 10 and sort it.\n",
    "ranV = np.array(np.random.random(10))\n",
    "print('Random vector ')\n",
    "print(ranV)\n",
    "print('Sorted Random vector ')\n",
    "ranV.sort()\n",
    "print(ranV)"
   ]
  },
  {
   "cell_type": "code",
   "execution_count": 18,
   "id": "median-singapore",
   "metadata": {
    "ExecuteTime": {
     "end_time": "2021-04-16T19:20:16.059103Z",
     "start_time": "2021-04-16T19:20:15.988362Z"
    }
   },
   "outputs": [
    {
     "name": "stdout",
     "output_type": "stream",
     "text": [
      "First array:\n",
      "[0 1 0 0 1 0]\n",
      "Second array:\n",
      "[1 1 1 0 1 1]\n",
      "Test above two arrays are equal or not!\n",
      "False\n"
     ]
    }
   ],
   "source": [
    "# Write a Python program to check two random arrays are equal or not.\n",
    "x = np.random.randint(0,2,6)\n",
    "print(\"First array:\")\n",
    "print(x)\n",
    "y = np.random.randint(0,2,6)\n",
    "print(\"Second array:\")\n",
    "print(y)\n",
    "print(\"Test above two arrays are equal or not!\")\n",
    "array_equal = np.allclose(x, y)\n",
    "print(array_equal)"
   ]
  },
  {
   "cell_type": "code",
   "execution_count": 19,
   "id": "beautiful-jewelry",
   "metadata": {
    "ExecuteTime": {
     "end_time": "2021-04-16T19:20:16.276104Z",
     "start_time": "2021-04-16T19:20:16.061179Z"
    }
   },
   "outputs": [
    {
     "name": "stdout",
     "output_type": "stream",
     "text": [
      "[2 1 3 2 3 4]\n",
      "[2 2 0 4 1 1]\n"
     ]
    }
   ],
   "source": [
    "# Write a Python program to add, subtract, multiply, divide arguments element-wise\n",
    "x1 = np.random.randint(5, size=6)\n",
    "x2 = np.random.randint(5, size=6)\n",
    "\n",
    "print(x1)\n",
    "print(x2)"
   ]
  },
  {
   "cell_type": "code",
   "execution_count": 20,
   "id": "involved-electronics",
   "metadata": {
    "ExecuteTime": {
     "end_time": "2021-04-16T19:20:16.350392Z",
     "start_time": "2021-04-16T19:20:16.278752Z"
    }
   },
   "outputs": [
    {
     "name": "stdout",
     "output_type": "stream",
     "text": [
      "[4 3 3 6 4 5]\n",
      "[ 0 -1  3 -2  2  3]\n",
      "[4 2 0 8 3 4]\n",
      "[1.  0.5 inf 0.5 3.  4. ]\n"
     ]
    }
   ],
   "source": [
    "print(np.add(x1, x2))\n",
    "print(np.subtract(x1, x2))\n",
    "print(np.multiply(x1, x2))\n",
    "print(np.divide(x1, x2))"
   ]
  },
  {
   "cell_type": "code",
   "execution_count": 2,
   "id": "agricultural-distributor",
   "metadata": {
    "ExecuteTime": {
     "end_time": "2021-04-16T19:30:53.818428Z",
     "start_time": "2021-04-16T19:30:53.810127Z"
    }
   },
   "outputs": [
    {
     "name": "stdout",
     "output_type": "stream",
     "text": [
      "TODAY  2021-04-17\n",
      "TOMORROW  2021-04-18\n",
      "TODAY  2021-04-16\n"
     ]
    }
   ],
   "source": [
    "# Write a Python program to get the dates of yesterday, today and tomorrow.\n",
    "today = np.datetime64('today','D')\n",
    "print('TODAY ',(today))\n",
    "tomorrow = np.datetime64('today','D')+np.timedelta64('1','D')\n",
    "print('TOMORROW ' ,(tomorrow))\n",
    "yesterd = np.datetime64('today','D')-np.timedelta64('1','D')\n",
    "print('TODAY ',(yesterd))"
   ]
  }
 ],
 "metadata": {
  "kernelspec": {
   "display_name": "Python 3",
   "language": "python",
   "name": "python3"
  },
  "language_info": {
   "codemirror_mode": {
    "name": "ipython",
    "version": 3
   },
   "file_extension": ".py",
   "mimetype": "text/x-python",
   "name": "python",
   "nbconvert_exporter": "python",
   "pygments_lexer": "ipython3",
   "version": "3.8.3"
  },
  "latex_envs": {
   "LaTeX_envs_menu_present": true,
   "autoclose": false,
   "autocomplete": true,
   "bibliofile": "biblio.bib",
   "cite_by": "apalike",
   "current_citInitial": 1,
   "eqLabelWithNumbers": true,
   "eqNumInitial": 1,
   "hotkeys": {
    "equation": "Ctrl-E",
    "itemize": "Ctrl-I"
   },
   "labels_anchors": false,
   "latex_user_defs": false,
   "report_style_numbering": false,
   "user_envs_cfg": false
  },
  "varInspector": {
   "cols": {
    "lenName": 16,
    "lenType": 16,
    "lenVar": 40
   },
   "kernels_config": {
    "python": {
     "delete_cmd_postfix": "",
     "delete_cmd_prefix": "del ",
     "library": "var_list.py",
     "varRefreshCmd": "print(var_dic_list())"
    },
    "r": {
     "delete_cmd_postfix": ") ",
     "delete_cmd_prefix": "rm(",
     "library": "var_list.r",
     "varRefreshCmd": "cat(var_dic_list()) "
    }
   },
   "types_to_exclude": [
    "module",
    "function",
    "builtin_function_or_method",
    "instance",
    "_Feature"
   ],
   "window_display": false
  }
 },
 "nbformat": 4,
 "nbformat_minor": 5
}
